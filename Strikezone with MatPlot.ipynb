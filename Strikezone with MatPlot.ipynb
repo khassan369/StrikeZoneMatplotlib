{
 "cells": [
  {
   "cell_type": "code",
   "execution_count": 1,
   "id": "34d3b83d",
   "metadata": {},
   "outputs": [
    {
     "data": {
      "image/png": "[encoded data removed]",
      "text/plain": [
       "<Figure size 640x480 with 1 Axes>"
      ]
     },
     "metadata": {},
     "output_type": "display_data"
    }
   ],
   "source": [
    "from matplotlib import pyplot as plt\n",
    "from matplotlib.patches import Rectangle\n",
    "\n",
    "#defining axis\n",
    "someX, someY = 0.5, 0.5\n",
    "plt.figure()\n",
    "currentAxis = plt.gca()\n",
    "\n",
    "\n",
    "#code for strikezone in the zone\n",
    "zone7 = currentAxis.add_patch(Rectangle((someX - .2, someY - .2), 0.1, 0.1,\n",
    "                                         fill=False, label = 'zone 7', alpha=1)) #code for zone 7\n",
    "\n",
    "zone8 = currentAxis.add_patch(Rectangle((someX - .1, someY - .2), 0.1, 0.1, fill=None, alpha=1)) #code for zone 8\n",
    "zone9 = currentAxis.add_patch(Rectangle((someX - 0, someY - .2), 0.1, 0.1,  fill=None, alpha=1)) #code for zone 9\n",
    "zone4 = currentAxis.add_patch(Rectangle((someX - .2, someY - .1), 0.1, 0.1, fill=None, alpha=1)) #code for zone 4\n",
    "zone5 = currentAxis.add_patch(Rectangle((someX - .1, someY - .1), 0.1, 0.1, fill=None, alpha=1)) #code for zone 5\n",
    "zone6 = currentAxis.add_patch(Rectangle((someX - 0, someY - .1), 0.1, 0.1,  fill=None, alpha=1)) #code for zone 6\n",
    "zone1 = currentAxis.add_patch(Rectangle((someX - .2, someY - 0), 0.1, 0.1,  fill=None, alpha=1)) #code for zone 1\n",
    "zone2 = currentAxis.add_patch(Rectangle((someX - .1, someY - 0), 0.1, 0.1,  fill=None, alpha=1)) #code for zone 2\n",
    "zone3 = currentAxis.add_patch(Rectangle((someX - 0, someY - 0), 0.1, 0.1,   fill=None, alpha=1)) #code for zone 3\n",
    "#code for extended strikezone\n",
    "currentAxis.add_patch(Rectangle((someX - .23, someY - -.1), 0.18, 0.05, fill=None,  alpha=1))#code for zone 11 combined horizon\n",
    "currentAxis.add_patch(Rectangle((someX - .23, someY - .06), 0.03, 0.21, edgecolor = 'black',\n",
    "                                facecolor = 'white', fill=True, alpha=1)) #code for zone 11 combined vertical\n",
    "currentAxis.add_patch(Rectangle((someX - .05, someY - -.1), 0.18, 0.05, fill=None, alpha=1)) #code for zone 12 combined horizon\n",
    "currentAxis.add_patch(Rectangle((someX - -.1, someY - .06), 0.03, 0.21, edgecolor = 'black', \n",
    "                                facecolor = 'white', fill=True, alpha=1)) #code for zone 12 combined vertical\n",
    "currentAxis.add_patch(Rectangle((someX - .23, someY - .25), 0.18, 0.05, fill=None, alpha=1)) #code for zone 13 combined horizon\n",
    "currentAxis.add_patch(Rectangle((someX - .23, someY - .25), 0.03, 0.19, edgecolor = 'black',\n",
    "                                facecolor = 'white', fill=True, alpha=1)) #code for zone 13 combined vertical\n",
    "currentAxis.add_patch(Rectangle((someX - .05, someY - .25), 0.18, 0.05, fill=None, alpha=1)) #code for zone 14 combined horizon\n",
    "currentAxis.add_patch(Rectangle((someX - -.1, someY - .25), 0.03, 0.19, edgecolor = 'black',\n",
    "                                facecolor = 'white', fill=True, alpha=1)) #code for zone 14 combined vertical\n",
    "plt.axis(\"off\")\n",
    "plt.show()"
   ]
  },
  {
   "cell_type": "code",
   "execution_count": null,
   "id": "bbff943c",
   "metadata": {},
   "outputs": [],
   "source": []
  }
 ],
 "metadata": {
  "kernelspec": {
   "display_name": "Python 3 (ipykernel)",
   "language": "python",
   "name": "python3"
  },
  "language_info": {
   "codemirror_mode": {
    "name": "ipython",
    "version": 3
   },
   "file_extension": ".py",
   "mimetype": "text/x-python",
   "name": "python",
   "nbconvert_exporter": "python",
   "pygments_lexer": "ipython3",
   "version": "3.9.13"
  }
 },
 "nbformat": 4,
 "nbformat_minor": 5
}
